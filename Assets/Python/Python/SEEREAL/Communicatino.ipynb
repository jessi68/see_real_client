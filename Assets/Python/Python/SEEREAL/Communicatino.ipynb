{
 "cells": [
  {
   "cell_type": "code",
   "execution_count": null,
   "metadata": {},
   "outputs": [],
   "source": [
    "import socket\n",
    "import time\n",
    "from datetime import datetime\n",
    "\n",
    "HOST = '127.0.0.1' \n",
    "PORT = 8000       \n",
    "\n",
    "server_socket = socket.socket(socket.AF_INET, socket.SOCK_STREAM)\n",
    "\n",
    "server_socket.setsockopt(socket.SOL_SOCKET, socket.SO_REUSEADDR, 1)\n",
    "\n",
    "server_socket.bind((HOST, PORT))\n",
    "\n",
    "server_socket.listen()\n",
    "\n",
    "client_socket, addr = server_socket.accept()\n",
    "\n",
    "print('Connected by', addr)\n",
    "\n",
    "k = 0\n",
    "\n",
    "while True:\n",
    "    \n",
    "    msg = \"hello world \" + str(k)\n",
    "    client_socket.sendall(msg.encode())\n",
    "    print('send 완료 '+ str(k) )\n",
    "    k += 1\n",
    "    time.sleep(2)\n",
    "    \n",
    "    '''\n",
    "    무한 루프를 돌면서 2초에 한번씩 데이터를 송신함.\n",
    "    만약 종료 조건을 넣고 싶다면 여기에 넣으면 됨\n",
    "    '''\n",
    "\n",
    "client_socket.close()\n",
    "server_socket.close()"
   ]
  }
 ],
 "metadata": {
  "language_info": {
   "name": "python"
  },
  "orig_nbformat": 4
 },
 "nbformat": 4,
 "nbformat_minor": 2
}
